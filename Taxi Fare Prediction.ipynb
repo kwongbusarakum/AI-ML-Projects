{
  "nbformat": 4,
  "nbformat_minor": 0,
  "metadata": {
    "colab": {
      "provenance": []
    },
    "kernelspec": {
      "name": "python3",
      "display_name": "Python 3"
    },
    "language_info": {
      "name": "python"
    }
  },
  "cells": [
    {
      "cell_type": "markdown",
      "source": [
        "Predicting taxi fare"
      ],
      "metadata": {
        "id": "XBGGBjioy6Ls"
      }
    },
    {
      "cell_type": "markdown",
      "source": [
        "1. Read the dataset into a dataframe. Parse the pickup_datetime so that it is read as a timestamp."
      ],
      "metadata": {
        "id": "zZI4dT140LFw"
      }
    },
    {
      "cell_type": "code",
      "execution_count": null,
      "metadata": {
        "id": "Kc4B0TPRy4C4"
      },
      "outputs": [],
      "source": [
        "import pandas as pd\n",
        "\n",
        "data = pd.read_csv('taxifares.csv', parse_dates=['pickup_datetime'])"
      ]
    },
    {
      "cell_type": "markdown",
      "source": [
        "2. Explore the dataset and determine what is the target variable."
      ],
      "metadata": {
        "id": "sdyv-quC0Vm3"
      }
    },
    {
      "cell_type": "code",
      "source": [
        "print(data.head())\n",
        "print(data.info())\n",
        "\n",
        "# Target variable is 'fare_amount'"
      ],
      "metadata": {
        "colab": {
          "base_uri": "https://localhost:8080/"
        },
        "id": "-mEtEot00Yov",
        "outputId": "a109c0c5-2f16-44a4-a1d6-203f4289aa1b"
      },
      "execution_count": null,
      "outputs": [
        {
          "output_type": "stream",
          "name": "stdout",
          "text": [
            "       key  fare_amount           pickup_datetime  pickup_longitude  \\\n",
            "0  08:00.0         17.5 2013-05-25 01:08:00+00:00         40.706932   \n",
            "1  39:00.0         22.0 2013-05-22 13:39:00+00:00         40.719187   \n",
            "2  01:00.0         11.0 2013-05-24 21:01:00+00:00         40.731230   \n",
            "3  31:00.0         18.5 2013-05-26 19:31:00+00:00         40.740127   \n",
            "4  57:00.0         10.0 2013-05-23 18:57:00+00:00         40.734352   \n",
            "\n",
            "   pickup_latitude  dropoff_longitude  dropoff_latitude  passenger_count  \n",
            "0       -74.008970          40.749357        -73.984160                1  \n",
            "1       -74.008550          40.751062        -73.978658                2  \n",
            "2       -74.006850          40.765810        -73.983740                1  \n",
            "3       -74.005905          40.717935        -73.996982                1  \n",
            "4       -74.002660          40.713530        -73.963830                1  \n",
            "<class 'pandas.core.frame.DataFrame'>\n",
            "RangeIndex: 55367 entries, 0 to 55366\n",
            "Data columns (total 8 columns):\n",
            " #   Column             Non-Null Count  Dtype              \n",
            "---  ------             --------------  -----              \n",
            " 0   key                55367 non-null  object             \n",
            " 1   fare_amount        55367 non-null  float64            \n",
            " 2   pickup_datetime    55367 non-null  datetime64[ns, UTC]\n",
            " 3   pickup_longitude   55367 non-null  float64            \n",
            " 4   pickup_latitude    55367 non-null  float64            \n",
            " 5   dropoff_longitude  55367 non-null  float64            \n",
            " 6   dropoff_latitude   55367 non-null  float64            \n",
            " 7   passenger_count    55367 non-null  int64              \n",
            "dtypes: datetime64[ns, UTC](1), float64(5), int64(1), object(1)\n",
            "memory usage: 3.4+ MB\n",
            "None\n"
          ]
        }
      ]
    },
    {
      "cell_type": "markdown",
      "source": [
        "Target variable is 'fare_amount'"
      ],
      "metadata": {
        "id": "kI6cKvUs0ka-"
      }
    },
    {
      "cell_type": "markdown",
      "source": [
        "3. Drop factor(s) that are not likely to be relevant for predicting the taxi fare."
      ],
      "metadata": {
        "id": "nmcPZF0k0mK0"
      }
    },
    {
      "cell_type": "code",
      "source": [
        "data = data.drop(columns=['key'])"
      ],
      "metadata": {
        "id": "1SPVj35P0lv_"
      },
      "execution_count": null,
      "outputs": []
    },
    {
      "cell_type": "markdown",
      "source": [
        "4. Extract the weekday and the time (hours/minutes) from the pickup_datetime. Store in the data frame. Drop the pickup_datetime."
      ],
      "metadata": {
        "id": "uh-B9m0b0sIW"
      }
    },
    {
      "cell_type": "code",
      "source": [
        "data['weekday'] = data['pickup_datetime'].dt.weekday\n",
        "data['pickup_hour'] = data['pickup_datetime'].dt.hour\n",
        "data['pickup_minute'] = data['pickup_datetime'].dt.minute\n",
        "data = data.drop(columns=['pickup_datetime'])"
      ],
      "metadata": {
        "id": "XBydd-7e0r4m"
      },
      "execution_count": null,
      "outputs": []
    },
    {
      "cell_type": "markdown",
      "source": [
        "5. Compute the distance between pickup_longitude and dropoff_longitude by using this approximate formula for relatively close points in the earth (e.g. within NYC) (2) a = diff in longitude of two points * 54.6 b = diff in latitude of two points * 69.0 distance in miles = sqrt (a^2 + b^2)"
      ],
      "metadata": {
        "id": "u_tZPckM0ynZ"
      }
    },
    {
      "cell_type": "code",
      "source": [
        "import numpy as np\n",
        "\n",
        "def calculate_distance(row):\n",
        "    a = (row['dropoff_longitude'] - row['pickup_longitude']) * 54.6\n",
        "    b = (row['dropoff_latitude'] - row['pickup_latitude']) * 69.0\n",
        "    return np.sqrt(a**2 + b**2)\n",
        "\n",
        "data['distance'] = data.apply(calculate_distance, axis=1)"
      ],
      "metadata": {
        "id": "TG5k0FKT0zYm"
      },
      "execution_count": null,
      "outputs": []
    },
    {
      "cell_type": "markdown",
      "source": [
        "6. After computing the distance, you can drop latitude and longitude columns."
      ],
      "metadata": {
        "id": "wY4fgVnY04p5"
      }
    },
    {
      "cell_type": "code",
      "source": [
        "data = data.drop(columns=['pickup_longitude', 'pickup_latitude', 'dropoff_longitude', 'dropoff_latitude'])"
      ],
      "metadata": {
        "id": "-8jI_1Ef052D"
      },
      "execution_count": null,
      "outputs": []
    },
    {
      "cell_type": "markdown",
      "source": [
        "7. Assign X (features variables) and y (target variable)"
      ],
      "metadata": {
        "id": "rvQ_assE075J"
      }
    },
    {
      "cell_type": "code",
      "source": [
        "X = data.drop('fare_amount', axis=1)\n",
        "y = data['fare_amount']"
      ],
      "metadata": {
        "id": "BWbjYTVN090q"
      },
      "execution_count": null,
      "outputs": []
    },
    {
      "cell_type": "markdown",
      "source": [
        "8. Build a keras sequential model with at least two dense layers. Number of neurons is your choice (> 50). Activation function is your choice."
      ],
      "metadata": {
        "id": "TEAS70Ni1PjJ"
      }
    },
    {
      "cell_type": "code",
      "source": [
        "from tensorflow.keras.models import Sequential\n",
        "from tensorflow.keras.layers import Dense\n",
        "\n",
        "model = Sequential()\n",
        "model.add(Dense(64, activation='relu', input_shape=(X.shape[1],)))\n",
        "model.add(Dense(64, activation='relu'))"
      ],
      "metadata": {
        "id": "ceIuFc9u1P4Q"
      },
      "execution_count": null,
      "outputs": []
    },
    {
      "cell_type": "markdown",
      "source": [
        "9. Add a dense output layer."
      ],
      "metadata": {
        "id": "KRRyJdBc1Xi8"
      }
    },
    {
      "cell_type": "code",
      "source": [
        "model.add(Dense(1))"
      ],
      "metadata": {
        "id": "khBJykTc1Z1l"
      },
      "execution_count": null,
      "outputs": []
    },
    {
      "cell_type": "markdown",
      "source": [
        "10. Compile the model with optimizer as adam, loss as mean squared error, metrics as mean squared error."
      ],
      "metadata": {
        "id": "hRrHFfDs1cvR"
      }
    },
    {
      "cell_type": "code",
      "source": [
        "model.compile(optimizer='adam', loss='mean_squared_error', metrics=['mean_squared_error'])"
      ],
      "metadata": {
        "id": "gYZWEeNl1fFt"
      },
      "execution_count": null,
      "outputs": []
    },
    {
      "cell_type": "markdown",
      "source": [
        "11. Train the model. Partition with a split of 70/30. Epochs > 30."
      ],
      "metadata": {
        "id": "lveFkvUT1gaE"
      }
    },
    {
      "cell_type": "code",
      "source": [
        "from sklearn.model_selection import train_test_split\n",
        "\n",
        "X_train, X_test, y_train, y_test = train_test_split(X, y, test_size=0.3, random_state=42)\n",
        "history = model.fit(X_train, y_train, validation_split=0.3, epochs=35, batch_size=32)"
      ],
      "metadata": {
        "colab": {
          "base_uri": "https://localhost:8080/"
        },
        "id": "bBzwRE1e1icp",
        "outputId": "9ce1cde3-c09e-4e04-da1a-17cdbb84b1d3"
      },
      "execution_count": null,
      "outputs": [
        {
          "output_type": "stream",
          "name": "stdout",
          "text": [
            "Epoch 1/35\n",
            "848/848 [==============================] - 8s 9ms/step - loss: 107.6132 - mean_squared_error: 107.6132 - val_loss: 31.1641 - val_mean_squared_error: 31.1641\n",
            "Epoch 2/35\n",
            "848/848 [==============================] - 7s 8ms/step - loss: 42.1916 - mean_squared_error: 42.1916 - val_loss: 32.2127 - val_mean_squared_error: 32.2127\n",
            "Epoch 3/35\n",
            "848/848 [==============================] - 9s 10ms/step - loss: 84.4451 - mean_squared_error: 84.4451 - val_loss: 37.0168 - val_mean_squared_error: 37.0168\n",
            "Epoch 4/35\n",
            "848/848 [==============================] - 6s 7ms/step - loss: 76.9464 - mean_squared_error: 76.9464 - val_loss: 30.7716 - val_mean_squared_error: 30.7716\n",
            "Epoch 5/35\n",
            "848/848 [==============================] - 5s 6ms/step - loss: 30.4792 - mean_squared_error: 30.4792 - val_loss: 29.9064 - val_mean_squared_error: 29.9064\n",
            "Epoch 6/35\n",
            "848/848 [==============================] - 7s 8ms/step - loss: 34.8192 - mean_squared_error: 34.8192 - val_loss: 46.6897 - val_mean_squared_error: 46.6897\n",
            "Epoch 7/35\n",
            "848/848 [==============================] - 6s 7ms/step - loss: 42.0559 - mean_squared_error: 42.0559 - val_loss: 33.9597 - val_mean_squared_error: 33.9597\n",
            "Epoch 8/35\n",
            "848/848 [==============================] - 4s 5ms/step - loss: 42.6075 - mean_squared_error: 42.6075 - val_loss: 29.7376 - val_mean_squared_error: 29.7376\n",
            "Epoch 9/35\n",
            "848/848 [==============================] - 5s 6ms/step - loss: 30.4225 - mean_squared_error: 30.4225 - val_loss: 29.1826 - val_mean_squared_error: 29.1826\n",
            "Epoch 10/35\n",
            "848/848 [==============================] - 7s 8ms/step - loss: 30.3842 - mean_squared_error: 30.3842 - val_loss: 28.7631 - val_mean_squared_error: 28.7631\n",
            "Epoch 11/35\n",
            "848/848 [==============================] - 8s 9ms/step - loss: 35.3822 - mean_squared_error: 35.3822 - val_loss: 58.1736 - val_mean_squared_error: 58.1736\n",
            "Epoch 12/35\n",
            "848/848 [==============================] - 8s 9ms/step - loss: 29.3384 - mean_squared_error: 29.3384 - val_loss: 29.5579 - val_mean_squared_error: 29.5579\n",
            "Epoch 13/35\n",
            "848/848 [==============================] - 4s 4ms/step - loss: 30.4908 - mean_squared_error: 30.4908 - val_loss: 29.3075 - val_mean_squared_error: 29.3075\n",
            "Epoch 14/35\n",
            "848/848 [==============================] - 8s 10ms/step - loss: 29.0461 - mean_squared_error: 29.0461 - val_loss: 29.5026 - val_mean_squared_error: 29.5026\n",
            "Epoch 15/35\n",
            "848/848 [==============================] - 8s 10ms/step - loss: 29.2065 - mean_squared_error: 29.2065 - val_loss: 30.4827 - val_mean_squared_error: 30.4827\n",
            "Epoch 16/35\n",
            "848/848 [==============================] - 6s 7ms/step - loss: 29.0815 - mean_squared_error: 29.0815 - val_loss: 28.4726 - val_mean_squared_error: 28.4726\n",
            "Epoch 17/35\n",
            "848/848 [==============================] - 8s 9ms/step - loss: 28.4862 - mean_squared_error: 28.4862 - val_loss: 29.5374 - val_mean_squared_error: 29.5374\n",
            "Epoch 18/35\n",
            "848/848 [==============================] - 7s 8ms/step - loss: 28.6863 - mean_squared_error: 28.6863 - val_loss: 28.1423 - val_mean_squared_error: 28.1423\n",
            "Epoch 19/35\n",
            "848/848 [==============================] - 5s 6ms/step - loss: 28.5781 - mean_squared_error: 28.5781 - val_loss: 28.8692 - val_mean_squared_error: 28.8692\n",
            "Epoch 20/35\n",
            "848/848 [==============================] - 6s 7ms/step - loss: 28.0637 - mean_squared_error: 28.0637 - val_loss: 27.8683 - val_mean_squared_error: 27.8683\n",
            "Epoch 21/35\n",
            "848/848 [==============================] - 9s 11ms/step - loss: 27.8701 - mean_squared_error: 27.8701 - val_loss: 28.8981 - val_mean_squared_error: 28.8981\n",
            "Epoch 22/35\n",
            "848/848 [==============================] - 6s 8ms/step - loss: 28.0949 - mean_squared_error: 28.0949 - val_loss: 28.1572 - val_mean_squared_error: 28.1572\n",
            "Epoch 23/35\n",
            "848/848 [==============================] - 6s 7ms/step - loss: 27.8951 - mean_squared_error: 27.8951 - val_loss: 28.3017 - val_mean_squared_error: 28.3017\n",
            "Epoch 24/35\n",
            "848/848 [==============================] - 9s 10ms/step - loss: 27.5897 - mean_squared_error: 27.5897 - val_loss: 27.6625 - val_mean_squared_error: 27.6625\n",
            "Epoch 25/35\n",
            "848/848 [==============================] - 7s 9ms/step - loss: 27.7210 - mean_squared_error: 27.7210 - val_loss: 28.2005 - val_mean_squared_error: 28.2005\n",
            "Epoch 26/35\n",
            "848/848 [==============================] - 6s 7ms/step - loss: 27.2836 - mean_squared_error: 27.2836 - val_loss: 28.2862 - val_mean_squared_error: 28.2862\n",
            "Epoch 27/35\n",
            "848/848 [==============================] - 4s 5ms/step - loss: 27.4471 - mean_squared_error: 27.4471 - val_loss: 27.6922 - val_mean_squared_error: 27.6922\n",
            "Epoch 28/35\n",
            "848/848 [==============================] - 11s 13ms/step - loss: 27.3714 - mean_squared_error: 27.3714 - val_loss: 28.0251 - val_mean_squared_error: 28.0251\n",
            "Epoch 29/35\n",
            "848/848 [==============================] - 6s 8ms/step - loss: 27.1632 - mean_squared_error: 27.1632 - val_loss: 27.3373 - val_mean_squared_error: 27.3373\n",
            "Epoch 30/35\n",
            "848/848 [==============================] - 7s 8ms/step - loss: 27.2930 - mean_squared_error: 27.2930 - val_loss: 27.9852 - val_mean_squared_error: 27.9852\n",
            "Epoch 31/35\n",
            "848/848 [==============================] - 4s 5ms/step - loss: 27.0038 - mean_squared_error: 27.0038 - val_loss: 27.4334 - val_mean_squared_error: 27.4334\n",
            "Epoch 32/35\n",
            "848/848 [==============================] - 8s 10ms/step - loss: 26.8926 - mean_squared_error: 26.8926 - val_loss: 29.1526 - val_mean_squared_error: 29.1526\n",
            "Epoch 33/35\n",
            "848/848 [==============================] - 8s 10ms/step - loss: 26.9648 - mean_squared_error: 26.9648 - val_loss: 28.5725 - val_mean_squared_error: 28.5725\n",
            "Epoch 34/35\n",
            "848/848 [==============================] - 5s 5ms/step - loss: 26.6304 - mean_squared_error: 26.6304 - val_loss: 28.2166 - val_mean_squared_error: 28.2166\n",
            "Epoch 35/35\n",
            "848/848 [==============================] - 8s 10ms/step - loss: 26.7886 - mean_squared_error: 26.7886 - val_loss: 28.2994 - val_mean_squared_error: 28.2994\n"
          ]
        }
      ]
    },
    {
      "cell_type": "markdown",
      "source": [
        "12. Display the plot of the training and validation accuracy vs epoch."
      ],
      "metadata": {
        "id": "gyUFDIlG1j0I"
      }
    },
    {
      "cell_type": "code",
      "source": [
        "import matplotlib.pyplot as plt\n",
        "\n",
        "plt.plot(history.history['mean_squared_error'])\n",
        "plt.plot(history.history['val_mean_squared_error'])\n",
        "plt.title('Training and Validation MSE')\n",
        "plt.ylabel('Mean Squared Error')\n",
        "plt.xlabel('Epoch')\n",
        "plt.legend(['Training MSE', 'Validation MSE'], loc='upper right')\n",
        "plt.show()"
      ],
      "metadata": {
        "colab": {
          "base_uri": "https://localhost:8080/",
          "height": 472
        },
        "id": "Gxhbbwax1lvM",
        "outputId": "88047187-fb86-46a6-aaa6-0177817a6e1e"
      },
      "execution_count": null,
      "outputs": [
        {
          "output_type": "display_data",
          "data": {
            "text/plain": [
              "<Figure size 640x480 with 1 Axes>"
            ],
            "image/png": "[encoded data removed]"
          },
          "metadata": {}
        }
      ]
    },
    {
      "cell_type": "markdown",
      "source": [
        "13. Print the R-squared score."
      ],
      "metadata": {
        "id": "KjHpAaFG1oI7"
      }
    },
    {
      "cell_type": "code",
      "source": [
        "from sklearn.metrics import r2_score\n",
        "\n",
        "y_pred = model.predict(X_test)\n",
        "print(\"R-squared Score:\", r2_score(y_test, y_pred))"
      ],
      "metadata": {
        "colab": {
          "base_uri": "https://localhost:8080/"
        },
        "id": "MZrDcjiV1n52",
        "outputId": "737c365a-0103-4507-9442-59d3a338bc68"
      },
      "execution_count": null,
      "outputs": [
        {
          "output_type": "stream",
          "name": "stdout",
          "text": [
            "520/520 [==============================] - 2s 5ms/step\n",
            "R-squared Score: 0.7094750038271036\n"
          ]
        }
      ]
    },
    {
      "cell_type": "markdown",
      "source": [
        "14. Finally, print the prediction of taxi fare for 2 passengers riding 3.2 miles at 3:20 pm on a Friday."
      ],
      "metadata": {
        "id": "RAXOxOjo1qrZ"
      }
    },
    {
      "cell_type": "code",
      "source": [
        "# Sample: 2 passengers, 3.2 miles, 3:20 pm, Friday\n",
        "sample_data = pd.DataFrame({\n",
        "    'passenger_count': [2],\n",
        "    'weekday': [4],\n",
        "    'pickup_hour': [15],\n",
        "    'pickup_minute': [20],\n",
        "    'distance': [3.2]\n",
        "})\n",
        "\n",
        "predicted_fare = model.predict(sample_data)\n",
        "print(f\"The fare for 2 passengers to ride 3.2 miles at 3:20 pm on a Friday is ${predicted_fare[0][0]:.6f}\")"
      ],
      "metadata": {
        "colab": {
          "base_uri": "https://localhost:8080/"
        },
        "id": "w8o25eWy1s7K",
        "outputId": "abddbcda-39b6-4e8f-fbeb-afd1ad6093cf"
      },
      "execution_count": null,
      "outputs": [
        {
          "output_type": "stream",
          "name": "stdout",
          "text": [
            "1/1 [==============================] - 0s 32ms/step\n",
            "The fare for 2 passengers to ride 3.2 miles at 3:20 pm on a Friday is $13.959302\n"
          ]
        }
      ]
    }
  ]
}